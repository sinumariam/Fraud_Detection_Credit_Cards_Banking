{
 "cells": [
  {
   "cell_type": "markdown",
   "id": "acde9591-d48e-4c19-97dd-0997a0fe8492",
   "metadata": {},
   "source": [
    "#### Name : SINU S MARIAM\n",
    "#### Designation : Machine Learning Intern  \n",
    "#### Organization : CodSoft\n",
    "#### Batch : APRIL BATCH P43\n",
    "#### Task 2 - CREDIT CARD FRAUD DETECTION\n",
    "#### Problem Statement:\n",
    "* Build a model to detect fraudulent credit card transactions \n",
    "* Use a dataset containing information about credit card transactions, and experiment with algorithms like Logistic Regression, Decision Trees,or Random Forests to classify transactions as fraudulent or legitimate."
   ]
  },
  {
   "cell_type": "code",
   "execution_count": 1,
   "id": "b90e1fae-01b9-4360-b8a5-2ffcbeeb23e5",
   "metadata": {
    "tags": []
   },
   "outputs": [],
   "source": [
    "#importing necessary libraries \n",
    "import numpy as np\n",
    "import pandas as pd\n",
    "import warnings \n",
    "warnings.filterwarnings('ignore')\n",
    "#importing libraries for visualisation\n",
    "import matplotlib as plt\n",
    "from matplotlib import style\n",
    "import seaborn as sns"
   ]
  },
  {
   "cell_type": "code",
   "execution_count": 2,
   "id": "f5825568-8f19-4f16-95e5-0d73c00f2d61",
   "metadata": {
    "tags": []
   },
   "outputs": [],
   "source": [
    "#importing Train and Test Data\n",
    "data_frame_train=pd.read_csv('C:/Users/sinus/OneDrive/Documents/codsoft/credit_card_code/fraudTrain.csv')\n",
    "data_frame_test=pd.read_csv('C:/Users/sinus/OneDrive/Documents/codsoft/credit_card_code/fraudTest.csv')"
   ]
  },
  {
   "cell_type": "code",
   "execution_count": 4,
   "id": "9044fb79-7b96-4bf3-8ab3-2f6ef0d9af06",
   "metadata": {
    "tags": []
   },
   "outputs": [
    {
     "data": {
      "text/plain": [
       "(1296675, 23)"
      ]
     },
     "execution_count": 4,
     "metadata": {},
     "output_type": "execute_result"
    }
   ],
   "source": [
    "# Understanding the dimensions of train data\n",
    "data_frame_train.shape"
   ]
  },
  {
   "cell_type": "code",
   "execution_count": 5,
   "id": "1bed5485-3c3e-4c14-8db4-a0a6c3709ded",
   "metadata": {
    "tags": []
   },
   "outputs": [
    {
     "data": {
      "text/html": [
       "<div>\n",
       "<style scoped>\n",
       "    .dataframe tbody tr th:only-of-type {\n",
       "        vertical-align: middle;\n",
       "    }\n",
       "\n",
       "    .dataframe tbody tr th {\n",
       "        vertical-align: top;\n",
       "    }\n",
       "\n",
       "    .dataframe thead th {\n",
       "        text-align: right;\n",
       "    }\n",
       "</style>\n",
       "<table border=\"1\" class=\"dataframe\">\n",
       "  <thead>\n",
       "    <tr style=\"text-align: right;\">\n",
       "      <th></th>\n",
       "      <th>Unnamed: 0</th>\n",
       "      <th>trans_date_trans_time</th>\n",
       "      <th>cc_num</th>\n",
       "      <th>merchant</th>\n",
       "      <th>category</th>\n",
       "      <th>amt</th>\n",
       "      <th>first</th>\n",
       "      <th>last</th>\n",
       "      <th>gender</th>\n",
       "      <th>street</th>\n",
       "      <th>...</th>\n",
       "      <th>lat</th>\n",
       "      <th>long</th>\n",
       "      <th>city_pop</th>\n",
       "      <th>job</th>\n",
       "      <th>dob</th>\n",
       "      <th>trans_num</th>\n",
       "      <th>unix_time</th>\n",
       "      <th>merch_lat</th>\n",
       "      <th>merch_long</th>\n",
       "      <th>is_fraud</th>\n",
       "    </tr>\n",
       "  </thead>\n",
       "  <tbody>\n",
       "    <tr>\n",
       "      <th>0</th>\n",
       "      <td>0</td>\n",
       "      <td>2019-01-01 00:00:18</td>\n",
       "      <td>2703186189652095</td>\n",
       "      <td>fraud_Rippin, Kub and Mann</td>\n",
       "      <td>misc_net</td>\n",
       "      <td>4.97</td>\n",
       "      <td>Jennifer</td>\n",
       "      <td>Banks</td>\n",
       "      <td>F</td>\n",
       "      <td>561 Perry Cove</td>\n",
       "      <td>...</td>\n",
       "      <td>36.0788</td>\n",
       "      <td>-81.1781</td>\n",
       "      <td>3495</td>\n",
       "      <td>Psychologist, counselling</td>\n",
       "      <td>1988-03-09</td>\n",
       "      <td>0b242abb623afc578575680df30655b9</td>\n",
       "      <td>1325376018</td>\n",
       "      <td>36.011293</td>\n",
       "      <td>-82.048315</td>\n",
       "      <td>0</td>\n",
       "    </tr>\n",
       "    <tr>\n",
       "      <th>1</th>\n",
       "      <td>1</td>\n",
       "      <td>2019-01-01 00:00:44</td>\n",
       "      <td>630423337322</td>\n",
       "      <td>fraud_Heller, Gutmann and Zieme</td>\n",
       "      <td>grocery_pos</td>\n",
       "      <td>107.23</td>\n",
       "      <td>Stephanie</td>\n",
       "      <td>Gill</td>\n",
       "      <td>F</td>\n",
       "      <td>43039 Riley Greens Suite 393</td>\n",
       "      <td>...</td>\n",
       "      <td>48.8878</td>\n",
       "      <td>-118.2105</td>\n",
       "      <td>149</td>\n",
       "      <td>Special educational needs teacher</td>\n",
       "      <td>1978-06-21</td>\n",
       "      <td>1f76529f8574734946361c461b024d99</td>\n",
       "      <td>1325376044</td>\n",
       "      <td>49.159047</td>\n",
       "      <td>-118.186462</td>\n",
       "      <td>0</td>\n",
       "    </tr>\n",
       "    <tr>\n",
       "      <th>2</th>\n",
       "      <td>2</td>\n",
       "      <td>2019-01-01 00:00:51</td>\n",
       "      <td>38859492057661</td>\n",
       "      <td>fraud_Lind-Buckridge</td>\n",
       "      <td>entertainment</td>\n",
       "      <td>220.11</td>\n",
       "      <td>Edward</td>\n",
       "      <td>Sanchez</td>\n",
       "      <td>M</td>\n",
       "      <td>594 White Dale Suite 530</td>\n",
       "      <td>...</td>\n",
       "      <td>42.1808</td>\n",
       "      <td>-112.2620</td>\n",
       "      <td>4154</td>\n",
       "      <td>Nature conservation officer</td>\n",
       "      <td>1962-01-19</td>\n",
       "      <td>a1a22d70485983eac12b5b88dad1cf95</td>\n",
       "      <td>1325376051</td>\n",
       "      <td>43.150704</td>\n",
       "      <td>-112.154481</td>\n",
       "      <td>0</td>\n",
       "    </tr>\n",
       "    <tr>\n",
       "      <th>3</th>\n",
       "      <td>3</td>\n",
       "      <td>2019-01-01 00:01:16</td>\n",
       "      <td>3534093764340240</td>\n",
       "      <td>fraud_Kutch, Hermiston and Farrell</td>\n",
       "      <td>gas_transport</td>\n",
       "      <td>45.00</td>\n",
       "      <td>Jeremy</td>\n",
       "      <td>White</td>\n",
       "      <td>M</td>\n",
       "      <td>9443 Cynthia Court Apt. 038</td>\n",
       "      <td>...</td>\n",
       "      <td>46.2306</td>\n",
       "      <td>-112.1138</td>\n",
       "      <td>1939</td>\n",
       "      <td>Patent attorney</td>\n",
       "      <td>1967-01-12</td>\n",
       "      <td>6b849c168bdad6f867558c3793159a81</td>\n",
       "      <td>1325376076</td>\n",
       "      <td>47.034331</td>\n",
       "      <td>-112.561071</td>\n",
       "      <td>0</td>\n",
       "    </tr>\n",
       "    <tr>\n",
       "      <th>4</th>\n",
       "      <td>4</td>\n",
       "      <td>2019-01-01 00:03:06</td>\n",
       "      <td>375534208663984</td>\n",
       "      <td>fraud_Keeling-Crist</td>\n",
       "      <td>misc_pos</td>\n",
       "      <td>41.96</td>\n",
       "      <td>Tyler</td>\n",
       "      <td>Garcia</td>\n",
       "      <td>M</td>\n",
       "      <td>408 Bradley Rest</td>\n",
       "      <td>...</td>\n",
       "      <td>38.4207</td>\n",
       "      <td>-79.4629</td>\n",
       "      <td>99</td>\n",
       "      <td>Dance movement psychotherapist</td>\n",
       "      <td>1986-03-28</td>\n",
       "      <td>a41d7549acf90789359a9aa5346dcb46</td>\n",
       "      <td>1325376186</td>\n",
       "      <td>38.674999</td>\n",
       "      <td>-78.632459</td>\n",
       "      <td>0</td>\n",
       "    </tr>\n",
       "  </tbody>\n",
       "</table>\n",
       "<p>5 rows × 23 columns</p>\n",
       "</div>"
      ],
      "text/plain": [
       "   Unnamed: 0 trans_date_trans_time            cc_num  \\\n",
       "0           0   2019-01-01 00:00:18  2703186189652095   \n",
       "1           1   2019-01-01 00:00:44      630423337322   \n",
       "2           2   2019-01-01 00:00:51    38859492057661   \n",
       "3           3   2019-01-01 00:01:16  3534093764340240   \n",
       "4           4   2019-01-01 00:03:06   375534208663984   \n",
       "\n",
       "                             merchant       category     amt      first  \\\n",
       "0          fraud_Rippin, Kub and Mann       misc_net    4.97   Jennifer   \n",
       "1     fraud_Heller, Gutmann and Zieme    grocery_pos  107.23  Stephanie   \n",
       "2                fraud_Lind-Buckridge  entertainment  220.11     Edward   \n",
       "3  fraud_Kutch, Hermiston and Farrell  gas_transport   45.00     Jeremy   \n",
       "4                 fraud_Keeling-Crist       misc_pos   41.96      Tyler   \n",
       "\n",
       "      last gender                        street  ...      lat      long  \\\n",
       "0    Banks      F                561 Perry Cove  ...  36.0788  -81.1781   \n",
       "1     Gill      F  43039 Riley Greens Suite 393  ...  48.8878 -118.2105   \n",
       "2  Sanchez      M      594 White Dale Suite 530  ...  42.1808 -112.2620   \n",
       "3    White      M   9443 Cynthia Court Apt. 038  ...  46.2306 -112.1138   \n",
       "4   Garcia      M              408 Bradley Rest  ...  38.4207  -79.4629   \n",
       "\n",
       "   city_pop                                job         dob  \\\n",
       "0      3495          Psychologist, counselling  1988-03-09   \n",
       "1       149  Special educational needs teacher  1978-06-21   \n",
       "2      4154        Nature conservation officer  1962-01-19   \n",
       "3      1939                    Patent attorney  1967-01-12   \n",
       "4        99     Dance movement psychotherapist  1986-03-28   \n",
       "\n",
       "                          trans_num   unix_time  merch_lat  merch_long  \\\n",
       "0  0b242abb623afc578575680df30655b9  1325376018  36.011293  -82.048315   \n",
       "1  1f76529f8574734946361c461b024d99  1325376044  49.159047 -118.186462   \n",
       "2  a1a22d70485983eac12b5b88dad1cf95  1325376051  43.150704 -112.154481   \n",
       "3  6b849c168bdad6f867558c3793159a81  1325376076  47.034331 -112.561071   \n",
       "4  a41d7549acf90789359a9aa5346dcb46  1325376186  38.674999  -78.632459   \n",
       "\n",
       "   is_fraud  \n",
       "0         0  \n",
       "1         0  \n",
       "2         0  \n",
       "3         0  \n",
       "4         0  \n",
       "\n",
       "[5 rows x 23 columns]"
      ]
     },
     "execution_count": 5,
     "metadata": {},
     "output_type": "execute_result"
    }
   ],
   "source": [
    "# Show the top 5 Rows of data\n",
    "data_frame_train.head(5)"
   ]
  },
  {
   "cell_type": "code",
   "execution_count": 6,
   "id": "48f8f200-4e53-4539-b124-c5396f86e864",
   "metadata": {
    "tags": []
   },
   "outputs": [
    {
     "name": "stdout",
     "output_type": "stream",
     "text": [
      "<class 'pandas.core.frame.DataFrame'>\n",
      "RangeIndex: 1296675 entries, 0 to 1296674\n",
      "Data columns (total 23 columns):\n",
      " #   Column                 Non-Null Count    Dtype  \n",
      "---  ------                 --------------    -----  \n",
      " 0   Unnamed: 0             1296675 non-null  int64  \n",
      " 1   trans_date_trans_time  1296675 non-null  object \n",
      " 2   cc_num                 1296675 non-null  int64  \n",
      " 3   merchant               1296675 non-null  object \n",
      " 4   category               1296675 non-null  object \n",
      " 5   amt                    1296675 non-null  float64\n",
      " 6   first                  1296675 non-null  object \n",
      " 7   last                   1296675 non-null  object \n",
      " 8   gender                 1296675 non-null  object \n",
      " 9   street                 1296675 non-null  object \n",
      " 10  city                   1296675 non-null  object \n",
      " 11  state                  1296675 non-null  object \n",
      " 12  zip                    1296675 non-null  int64  \n",
      " 13  lat                    1296675 non-null  float64\n",
      " 14  long                   1296675 non-null  float64\n",
      " 15  city_pop               1296675 non-null  int64  \n",
      " 16  job                    1296675 non-null  object \n",
      " 17  dob                    1296675 non-null  object \n",
      " 18  trans_num              1296675 non-null  object \n",
      " 19  unix_time              1296675 non-null  int64  \n",
      " 20  merch_lat              1296675 non-null  float64\n",
      " 21  merch_long             1296675 non-null  float64\n",
      " 22  is_fraud               1296675 non-null  int64  \n",
      "dtypes: float64(5), int64(6), object(12)\n",
      "memory usage: 227.5+ MB\n"
     ]
    }
   ],
   "source": [
    "# Understanding the Data Variables\n",
    "data_frame_train.info()"
   ]
  },
  {
   "cell_type": "code",
   "execution_count": 8,
   "id": "230b0cc1-96d7-4e05-b8b3-d6269559f28c",
   "metadata": {
    "tags": []
   },
   "outputs": [
    {
     "data": {
      "text/plain": [
       "(1296675, 23)"
      ]
     },
     "execution_count": 8,
     "metadata": {},
     "output_type": "execute_result"
    }
   ],
   "source": [
    "# Dimensions of train dataset\n",
    "data_frame_train.shape"
   ]
  },
  {
   "cell_type": "code",
   "execution_count": 9,
   "id": "3dc3048a-eda6-4337-bc09-4dac028c30eb",
   "metadata": {},
   "outputs": [
    {
     "data": {
      "text/plain": [
       "(555719, 23)"
      ]
     },
     "execution_count": 9,
     "metadata": {},
     "output_type": "execute_result"
    }
   ],
   "source": [
    "# Dimensions of test dataset\n",
    "data_frame_test.shape"
   ]
  },
  {
   "cell_type": "code",
   "execution_count": 11,
   "id": "cabbb4c9-77e1-40eb-94c0-69b308bf13d1",
   "metadata": {
    "tags": []
   },
   "outputs": [
    {
     "data": {
      "text/plain": [
       "Unnamed: 0               0\n",
       "trans_date_trans_time    0\n",
       "cc_num                   0\n",
       "merchant                 0\n",
       "category                 0\n",
       "amt                      0\n",
       "first                    0\n",
       "last                     0\n",
       "gender                   0\n",
       "street                   0\n",
       "city                     0\n",
       "state                    0\n",
       "zip                      0\n",
       "lat                      0\n",
       "long                     0\n",
       "city_pop                 0\n",
       "job                      0\n",
       "dob                      0\n",
       "trans_num                0\n",
       "unix_time                0\n",
       "merch_lat                0\n",
       "merch_long               0\n",
       "is_fraud                 0\n",
       "dtype: int64"
      ]
     },
     "execution_count": 11,
     "metadata": {},
     "output_type": "execute_result"
    }
   ],
   "source": [
    "# Checking for null values\n",
    "data_frame_train.isnull().sum()"
   ]
  },
  {
   "cell_type": "code",
   "execution_count": 12,
   "id": "c6f60467-e952-45b0-aab8-0e5e06cc47d2",
   "metadata": {
    "tags": []
   },
   "outputs": [],
   "source": [
    "# Converting date columns to date time objects\n",
    "data_frame_train['trans_date_trans_time'] = pd.to_datetime(data_frame_train['trans_date_trans_time'])\n",
    "data_frame_train['dob']=pd.to_datetime(data_frame_train['dob'])\n",
    "data_frame_test['trans_date_trans_time'] = pd.to_datetime(data_frame_test['trans_date_trans_time'])\n",
    "data_frame_test['dob']=pd.to_datetime(data_frame_test['dob'])"
   ]
  },
  {
   "cell_type": "code",
   "execution_count": 13,
   "id": "6c7589cd-095e-449b-ab56-3a71f4912abf",
   "metadata": {
    "tags": []
   },
   "outputs": [
    {
     "data": {
      "text/plain": [
       "0069 Robin Brooks Apt. 695           3123\n",
       "864 Reynolds Plains                  3123\n",
       "8172 Robertson Parkways Suite 072    3119\n",
       "4664 Sanchez Common Suite 930        3117\n",
       "8030 Beck Motorway                   3113\n",
       "                                     ... \n",
       "7281 Joshua Mills Apt. 077              7\n",
       "3307 Ferguson Way                       7\n",
       "9599 Washington Field Suite 238         7\n",
       "3437 Ross Flat Apt. 592                 7\n",
       "27954 Hall Mill Suite 575               7\n",
       "Name: street, Length: 983, dtype: int64"
      ]
     },
     "execution_count": 13,
     "metadata": {},
     "output_type": "execute_result"
    }
   ],
   "source": [
    "# Checking values of street column\n",
    "data_frame_train.street.value_counts()"
   ]
  },
  {
   "cell_type": "code",
   "execution_count": 14,
   "id": "ff4ec480-5b21-41e5-9471-986b5a5ba2bd",
   "metadata": {
    "tags": []
   },
   "outputs": [
    {
     "data": {
      "text/plain": [
       "571365235126           3123\n",
       "4512828414983801773    3123\n",
       "36722699017270         3119\n",
       "213112402583773        3117\n",
       "3545109339866548       3113\n",
       "                       ... \n",
       "180097223252063           7\n",
       "4225628813173670          7\n",
       "501894933032              7\n",
       "4975457191020             7\n",
       "340187018810220           7\n",
       "Name: cc_num, Length: 983, dtype: int64"
      ]
     },
     "execution_count": 14,
     "metadata": {},
     "output_type": "execute_result"
    }
   ],
   "source": [
    "# Checking values of cc_num column\n",
    "data_frame_train.cc_num.value_counts()"
   ]
  },
  {
   "cell_type": "code",
   "execution_count": 15,
   "id": "ac0cf6aa-67eb-4d7e-a124-9b01d1b458d1",
   "metadata": {
    "tags": []
   },
   "outputs": [
    {
     "data": {
      "text/plain": [
       "fraud_Kilback LLC                       4403\n",
       "fraud_Cormier LLC                       3649\n",
       "fraud_Schumm PLC                        3634\n",
       "fraud_Kuhn LLC                          3510\n",
       "fraud_Boyer PLC                         3493\n",
       "                                        ... \n",
       "fraud_Douglas, DuBuque and McKenzie      775\n",
       "fraud_Treutel-King                       775\n",
       "fraud_Medhurst, Labadie and Gottlieb     759\n",
       "fraud_Reichert-Weissnat                  753\n",
       "fraud_Hahn, Douglas and Schowalter       727\n",
       "Name: merchant, Length: 693, dtype: int64"
      ]
     },
     "execution_count": 15,
     "metadata": {},
     "output_type": "execute_result"
    }
   ],
   "source": [
    "# Checking values of merchant column\n",
    "data_frame_train.merchant.value_counts()"
   ]
  },
  {
   "cell_type": "code",
   "execution_count": 16,
   "id": "d63da0de-1853-4b55-af61-81e18e0900f4",
   "metadata": {
    "tags": []
   },
   "outputs": [
    {
     "data": {
      "text/plain": [
       "Birmingham     5617\n",
       "San Antonio    5130\n",
       "Utica          5105\n",
       "Phoenix        5075\n",
       "Meridian       5060\n",
       "               ... \n",
       "Vacaville         7\n",
       "Claypool          7\n",
       "Karns City        7\n",
       "Bruce             7\n",
       "Chattanooga       7\n",
       "Name: city, Length: 894, dtype: int64"
      ]
     },
     "execution_count": 16,
     "metadata": {},
     "output_type": "execute_result"
    }
   ],
   "source": [
    "# Checking values of city column\n",
    "data_frame_train.city.value_counts()"
   ]
  },
  {
   "cell_type": "code",
   "execution_count": 17,
   "id": "28b740e1-7438-46dd-b7a7-b30fce7e537b",
   "metadata": {},
   "outputs": [
    {
     "data": {
      "text/plain": [
       "gas_transport     131659\n",
       "grocery_pos       123638\n",
       "home              123115\n",
       "shopping_pos      116672\n",
       "kids_pets         113035\n",
       "shopping_net       97543\n",
       "entertainment      94014\n",
       "food_dining        91461\n",
       "personal_care      90758\n",
       "health_fitness     85879\n",
       "misc_pos           79655\n",
       "misc_net           63287\n",
       "grocery_net        45452\n",
       "travel             40507\n",
       "Name: category, dtype: int64"
      ]
     },
     "execution_count": 17,
     "metadata": {},
     "output_type": "execute_result"
    }
   ],
   "source": [
    "# Checking values of category column\n",
    "data_frame_train.category.value_counts()"
   ]
  },
  {
   "cell_type": "code",
   "execution_count": 18,
   "id": "e5aa77e9-1e05-475c-b095-9c6b04a8c807",
   "metadata": {
    "tags": []
   },
   "outputs": [
    {
     "data": {
      "text/plain": [
       "0b242abb623afc578575680df30655b9    1\n",
       "c85864e7e7cf0be6d1b8597977b8afea    1\n",
       "1a8a2a05638a5503cc6bb8d5735efcc1    1\n",
       "4556eaf1f7def06eb500325cde4d054e    1\n",
       "5e915d9f88bd09cee9655a470d9bc0bd    1\n",
       "                                   ..\n",
       "2d1aa5b21a993788ac19b697598ca44c    1\n",
       "b50dd4b47d1ad877874661afba6eb7f6    1\n",
       "5ce4e974bf15b7d9f133c6eedb81ceb1    1\n",
       "64d601ddeaf4eba8b191bd1859998209    1\n",
       "8f7c8e4ab7f25875d753b422917c98c9    1\n",
       "Name: trans_num, Length: 1296675, dtype: int64"
      ]
     },
     "execution_count": 18,
     "metadata": {},
     "output_type": "execute_result"
    }
   ],
   "source": [
    "# Checking values of trans_num column\n",
    "data_frame_train.trans_num .value_counts()"
   ]
  },
  {
   "cell_type": "code",
   "execution_count": 19,
   "id": "ce8eea18-82ce-4b49-a536-beccbc202c63",
   "metadata": {
    "tags": []
   },
   "outputs": [
    {
     "data": {
      "text/plain": [
       "Film/video editor             9779\n",
       "Exhibition designer           9199\n",
       "Naval architect               8684\n",
       "Surveyor, land/geomatics      8680\n",
       "Materials engineer            8270\n",
       "                              ... \n",
       "Information officer              8\n",
       "Veterinary surgeon               8\n",
       "Ship broker                      7\n",
       "Contracting civil engineer       7\n",
       "Warehouse manager                7\n",
       "Name: job, Length: 494, dtype: int64"
      ]
     },
     "execution_count": 19,
     "metadata": {},
     "output_type": "execute_result"
    }
   ],
   "source": [
    "# Checking values of job column\n",
    "data_frame_train.job.value_counts()"
   ]
  },
  {
   "cell_type": "code",
   "execution_count": 20,
   "id": "68d5e052-d4c1-4eaa-842e-e4f7a39223e8",
   "metadata": {
    "tags": []
   },
   "outputs": [
    {
     "data": {
      "text/plain": [
       "1370177227    4\n",
       "1335110521    4\n",
       "1370050667    4\n",
       "1367602155    3\n",
       "1364686521    3\n",
       "             ..\n",
       "1342203558    1\n",
       "1342203557    1\n",
       "1342203554    1\n",
       "1342203541    1\n",
       "1371816817    1\n",
       "Name: unix_time, Length: 1274823, dtype: int64"
      ]
     },
     "execution_count": 20,
     "metadata": {},
     "output_type": "execute_result"
    }
   ],
   "source": [
    "# Checking values of unix_time column\n",
    "data_frame_train.unix_time.value_counts()"
   ]
  },
  {
   "cell_type": "code",
   "execution_count": 21,
   "id": "f733d7b7-9553-4028-9bf5-5585e38f1dd9",
   "metadata": {
    "tags": []
   },
   "outputs": [
    {
     "data": {
      "text/plain": [
       "2019-04-22 16:02:01    4\n",
       "2020-06-01 01:37:47    4\n",
       "2020-06-02 12:47:07    4\n",
       "2019-11-18 23:03:49    3\n",
       "2019-12-01 14:11:58    3\n",
       "                      ..\n",
       "2019-07-13 18:38:18    1\n",
       "2019-07-13 18:37:26    1\n",
       "2019-07-13 18:35:46    1\n",
       "2019-07-13 18:35:41    1\n",
       "2020-06-21 12:13:37    1\n",
       "Name: trans_date_trans_time, Length: 1274791, dtype: int64"
      ]
     },
     "execution_count": 21,
     "metadata": {},
     "output_type": "execute_result"
    }
   ],
   "source": [
    "# Checking values of trans_date_trans_time column\n",
    "data_frame_train.trans_date_trans_time.value_counts()"
   ]
  },
  {
   "cell_type": "code",
   "execution_count": 22,
   "id": "01c8e881-6867-4218-a0e7-004f768784ce",
   "metadata": {},
   "outputs": [
    {
     "name": "stdout",
     "output_type": "stream",
     "text": [
      "<class 'pandas.core.frame.DataFrame'>\n",
      "RangeIndex: 1296675 entries, 0 to 1296674\n",
      "Data columns (total 14 columns):\n",
      " #   Column                 Non-Null Count    Dtype         \n",
      "---  ------                 --------------    -----         \n",
      " 0   trans_date_trans_time  1296675 non-null  datetime64[ns]\n",
      " 1   category               1296675 non-null  object        \n",
      " 2   amt                    1296675 non-null  float64       \n",
      " 3   gender                 1296675 non-null  object        \n",
      " 4   city                   1296675 non-null  object        \n",
      " 5   state                  1296675 non-null  object        \n",
      " 6   lat                    1296675 non-null  float64       \n",
      " 7   long                   1296675 non-null  float64       \n",
      " 8   city_pop               1296675 non-null  int64         \n",
      " 9   job                    1296675 non-null  object        \n",
      " 10  dob                    1296675 non-null  datetime64[ns]\n",
      " 11  merch_lat              1296675 non-null  float64       \n",
      " 12  merch_long             1296675 non-null  float64       \n",
      " 13  is_fraud               1296675 non-null  int64         \n",
      "dtypes: datetime64[ns](2), float64(5), int64(2), object(5)\n",
      "memory usage: 138.5+ MB\n"
     ]
    }
   ],
   "source": [
    "# Dropping unwanted columns from Train and Test Datasets\n",
    "data_frame_train.drop(columns=['Unnamed: 0','trans_num','cc_num','merchant','first','last','street','zip','unix_time'],axis=1,inplace=True)\n",
    "data_frame_test.drop(columns=['Unnamed: 0','trans_num','cc_num','merchant','first','last','street','zip','unix_time'],axis=1,inplace=True)\n",
    "data_frame_train.info()"
   ]
  },
  {
   "cell_type": "code",
   "execution_count": 23,
   "id": "cff7e12b-d89a-48f7-9499-9c0dd303e2e0",
   "metadata": {
    "tags": []
   },
   "outputs": [
    {
     "data": {
      "text/plain": [
       "0    1289169\n",
       "1       7506\n",
       "Name: is_fraud, dtype: int64"
      ]
     },
     "execution_count": 23,
     "metadata": {},
     "output_type": "execute_result"
    }
   ],
   "source": [
    "# Find value count of 'is_fraud' column\n",
    "data_frame_train.is_fraud.value_counts()"
   ]
  },
  {
   "cell_type": "markdown",
   "id": "8a9e923d-67a9-42cb-a355-635725025b0b",
   "metadata": {},
   "source": [
    "* There are 7506 fraud transactions listed in train data set"
   ]
  },
  {
   "cell_type": "markdown",
   "id": "0330df1b-689e-437c-a89e-011da191d78b",
   "metadata": {},
   "source": [
    "#### Data Visualization"
   ]
  },
  {
   "cell_type": "code",
   "execution_count": 24,
   "id": "ed51effe-b958-48f6-8ff2-83b7b20aa3d9",
   "metadata": {
    "tags": []
   },
   "outputs": [
    {
     "data": {
      "text/plain": [
       "<Axes: >"
      ]
     },
     "execution_count": 24,
     "metadata": {},
     "output_type": "execute_result"
    },
    {
     "data": {
      "image/png": "[encoded data removed]",
      "text/plain": [
       "<Figure size 500x300 with 1 Axes>"
      ]
     },
     "metadata": {},
     "output_type": "display_data"
    }
   ],
   "source": [
    "# Plotting histogram of Fraud and non_Fraud transactions\n",
    "data_frame_train[\"is_fraud\"].value_counts().plot(kind=\"bar\",figsize=(5,3))"
   ]
  },
  {
   "cell_type": "markdown",
   "id": "51c033f0-16b3-477f-85da-c0eab7bd5744",
   "metadata": {},
   "source": [
    "* Data is Highly Imbalanced "
   ]
  },
  {
   "cell_type": "code",
   "execution_count": 25,
   "id": "1f0e6261-6ffa-4e0f-ba51-c3e6357c1c1b",
   "metadata": {
    "tags": []
   },
   "outputs": [
    {
     "data": {
      "text/plain": [
       "<Axes: xlabel='gender', ylabel='Percent'>"
      ]
     },
     "execution_count": 25,
     "metadata": {},
     "output_type": "execute_result"
    },
    {
     "data": {
      "image/png": "[encoded data removed]",
      "text/plain": [
       "<Figure size 640x480 with 1 Axes>"
      ]
     },
     "metadata": {},
     "output_type": "display_data"
    }
   ],
   "source": [
    "# Plotting Histogram of genderwise fraud transaction count\n",
    "sns.histplot(data_frame_train,x=\"gender\",hue=\"is_fraud\",stat='percent')"
   ]
  },
  {
   "cell_type": "code",
   "execution_count": 26,
   "id": "ee48c43f-4516-4164-8f2d-1b7482cc8f3b",
   "metadata": {
    "tags": []
   },
   "outputs": [
    {
     "name": "stdout",
     "output_type": "stream",
     "text": [
      "<class 'pandas.core.frame.DataFrame'>\n",
      "Int64Index: 1852394 entries, 0 to 555718\n",
      "Data columns (total 14 columns):\n",
      " #   Column                 Dtype         \n",
      "---  ------                 -----         \n",
      " 0   trans_date_trans_time  datetime64[ns]\n",
      " 1   category               object        \n",
      " 2   amt                    float64       \n",
      " 3   gender                 object        \n",
      " 4   city                   object        \n",
      " 5   state                  object        \n",
      " 6   lat                    float64       \n",
      " 7   long                   float64       \n",
      " 8   city_pop               int64         \n",
      " 9   job                    object        \n",
      " 10  dob                    datetime64[ns]\n",
      " 11  merch_lat              float64       \n",
      " 12  merch_long             float64       \n",
      " 13  is_fraud               int64         \n",
      "dtypes: datetime64[ns](2), float64(5), int64(2), object(5)\n",
      "memory usage: 212.0+ MB\n"
     ]
    }
   ],
   "source": [
    "# Combining train and test data sets\n",
    "data_frame_combined=pd.concat([data_frame_train,data_frame_test])\n",
    "data_frame_combined.info()"
   ]
  },
  {
   "cell_type": "code",
   "execution_count": 27,
   "id": "a10b4029-93a6-44c7-ab0c-2447cb801ada",
   "metadata": {
    "tags": []
   },
   "outputs": [
    {
     "data": {
      "text/html": [
       "<div>\n",
       "<style scoped>\n",
       "    .dataframe tbody tr th:only-of-type {\n",
       "        vertical-align: middle;\n",
       "    }\n",
       "\n",
       "    .dataframe tbody tr th {\n",
       "        vertical-align: top;\n",
       "    }\n",
       "\n",
       "    .dataframe thead th {\n",
       "        text-align: right;\n",
       "    }\n",
       "</style>\n",
       "<table border=\"1\" class=\"dataframe\">\n",
       "  <thead>\n",
       "    <tr style=\"text-align: right;\">\n",
       "      <th></th>\n",
       "      <th>trans_date_trans_time</th>\n",
       "      <th>category</th>\n",
       "      <th>amt</th>\n",
       "      <th>gender</th>\n",
       "      <th>city</th>\n",
       "      <th>state</th>\n",
       "      <th>lat</th>\n",
       "      <th>long</th>\n",
       "      <th>city_pop</th>\n",
       "      <th>job</th>\n",
       "      <th>dob</th>\n",
       "      <th>merch_lat</th>\n",
       "      <th>merch_long</th>\n",
       "      <th>is_fraud</th>\n",
       "      <th>hour</th>\n",
       "    </tr>\n",
       "  </thead>\n",
       "  <tbody>\n",
       "    <tr>\n",
       "      <th>0</th>\n",
       "      <td>2019-01-01 00:00:18</td>\n",
       "      <td>misc_net</td>\n",
       "      <td>4.97</td>\n",
       "      <td>F</td>\n",
       "      <td>Moravian Falls</td>\n",
       "      <td>NC</td>\n",
       "      <td>36.0788</td>\n",
       "      <td>-81.1781</td>\n",
       "      <td>3495</td>\n",
       "      <td>Psychologist, counselling</td>\n",
       "      <td>1988-03-09</td>\n",
       "      <td>36.011293</td>\n",
       "      <td>-82.048315</td>\n",
       "      <td>0</td>\n",
       "      <td>0</td>\n",
       "    </tr>\n",
       "    <tr>\n",
       "      <th>1</th>\n",
       "      <td>2019-01-01 00:00:44</td>\n",
       "      <td>grocery_pos</td>\n",
       "      <td>107.23</td>\n",
       "      <td>F</td>\n",
       "      <td>Orient</td>\n",
       "      <td>WA</td>\n",
       "      <td>48.8878</td>\n",
       "      <td>-118.2105</td>\n",
       "      <td>149</td>\n",
       "      <td>Special educational needs teacher</td>\n",
       "      <td>1978-06-21</td>\n",
       "      <td>49.159047</td>\n",
       "      <td>-118.186462</td>\n",
       "      <td>0</td>\n",
       "      <td>0</td>\n",
       "    </tr>\n",
       "  </tbody>\n",
       "</table>\n",
       "</div>"
      ],
      "text/plain": [
       "  trans_date_trans_time     category     amt gender            city state  \\\n",
       "0   2019-01-01 00:00:18     misc_net    4.97      F  Moravian Falls    NC   \n",
       "1   2019-01-01 00:00:44  grocery_pos  107.23      F          Orient    WA   \n",
       "\n",
       "       lat      long  city_pop                                job        dob  \\\n",
       "0  36.0788  -81.1781      3495          Psychologist, counselling 1988-03-09   \n",
       "1  48.8878 -118.2105       149  Special educational needs teacher 1978-06-21   \n",
       "\n",
       "   merch_lat  merch_long  is_fraud  hour  \n",
       "0  36.011293  -82.048315         0     0  \n",
       "1  49.159047 -118.186462         0     0  "
      ]
     },
     "execution_count": 27,
     "metadata": {},
     "output_type": "execute_result"
    }
   ],
   "source": [
    "# Finding the exact 'hours' in which transactions takes place\n",
    "data_frame_combined['hour']=data_frame_combined['trans_date_trans_time'].dt.hour\n",
    "data_frame_combined.head(2)"
   ]
  },
  {
   "cell_type": "code",
   "execution_count": 28,
   "id": "ecd1af60-9896-4466-a771-71d7743399b9",
   "metadata": {
    "tags": []
   },
   "outputs": [
    {
     "data": {
      "text/plain": [
       "array([ 0,  1,  2,  3,  4,  5,  6,  7,  8,  9, 10, 11, 12, 13, 14, 15, 16,\n",
       "       17, 18, 19, 20, 21, 22, 23], dtype=int64)"
      ]
     },
     "execution_count": 28,
     "metadata": {},
     "output_type": "execute_result"
    }
   ],
   "source": [
    "# Finding unique values in 'hour' column\n",
    "data_frame_combined['hour'].unique()"
   ]
  },
  {
   "cell_type": "code",
   "execution_count": 29,
   "id": "dac28508-68b0-45b6-a118-982d69f75e3a",
   "metadata": {
    "tags": []
   },
   "outputs": [
    {
     "data": {
      "text/plain": [
       "23    95902\n",
       "22    95370\n",
       "16    94289\n",
       "18    94052\n",
       "21    93738\n",
       "17    93514\n",
       "13    93492\n",
       "15    93439\n",
       "19    93433\n",
       "12    93294\n",
       "14    93089\n",
       "20    93081\n",
       "1     61330\n",
       "3     60968\n",
       "2     60796\n",
       "0     60655\n",
       "8     60498\n",
       "6     60406\n",
       "10    60320\n",
       "7     60301\n",
       "9     60231\n",
       "11    60170\n",
       "5     60088\n",
       "4     59938\n",
       "Name: hour, dtype: int64"
      ]
     },
     "execution_count": 29,
     "metadata": {},
     "output_type": "execute_result"
    }
   ],
   "source": [
    "# Finding unique value counts in 'hour' column\n",
    "data_frame_combined['hour'].value_counts()"
   ]
  },
  {
   "cell_type": "code",
   "execution_count": 30,
   "id": "eef44829-3ab3-4a9d-84ae-985d7081bf17",
   "metadata": {
    "tags": []
   },
   "outputs": [
    {
     "data": {
      "text/plain": [
       "<Axes: >"
      ]
     },
     "execution_count": 30,
     "metadata": {},
     "output_type": "execute_result"
    },
    {
     "data": {
      "image/png": "[encoded data removed]",
      "text/plain": [
       "<Figure size 500x300 with 1 Axes>"
      ]
     },
     "metadata": {},
     "output_type": "display_data"
    }
   ],
   "source": [
    "# Plotting histogram of transaction hours\n",
    "data_frame_combined[\"hour\"].value_counts().plot(kind=\"bar\",figsize=(5,3))"
   ]
  },
  {
   "cell_type": "code",
   "execution_count": 31,
   "id": "fd953dcc-6086-4c8e-86e7-5c07b621fb17",
   "metadata": {
    "tags": []
   },
   "outputs": [
    {
     "data": {
      "text/plain": [
       "<Axes: xlabel='hour', ylabel='count'>"
      ]
     },
     "execution_count": 31,
     "metadata": {},
     "output_type": "execute_result"
    },
    {
     "data": {
      "image/png": "[encoded data removed]",
      "text/plain": [
       "<Figure size 640x480 with 1 Axes>"
      ]
     },
     "metadata": {},
     "output_type": "display_data"
    }
   ],
   "source": [
    "# Plotting transaction hours of fraud and non-fraud transactions\n",
    "sns.countplot(data_frame_combined,x='hour',hue='is_fraud')"
   ]
  },
  {
   "cell_type": "markdown",
   "id": "06a4464d-135f-4bdf-953b-a395e9575df7",
   "metadata": {},
   "source": [
    "* Most of transactions occured between 12:00 and 23:00\n",
    "* Most of fraudulent transactions happened in time zone 22:00 pm and 23:00  , then during 0:00 and 3:00"
   ]
  },
  {
   "cell_type": "code",
   "execution_count": 32,
   "id": "824dacf5-fdbc-4735-a2ab-c0e81e4b7394",
   "metadata": {
    "tags": []
   },
   "outputs": [
    {
     "data": {
      "text/html": [
       "<div>\n",
       "<style scoped>\n",
       "    .dataframe tbody tr th:only-of-type {\n",
       "        vertical-align: middle;\n",
       "    }\n",
       "\n",
       "    .dataframe tbody tr th {\n",
       "        vertical-align: top;\n",
       "    }\n",
       "\n",
       "    .dataframe thead th {\n",
       "        text-align: right;\n",
       "    }\n",
       "</style>\n",
       "<table border=\"1\" class=\"dataframe\">\n",
       "  <thead>\n",
       "    <tr style=\"text-align: right;\">\n",
       "      <th></th>\n",
       "      <th>trans_date_trans_time</th>\n",
       "      <th>category</th>\n",
       "      <th>amt</th>\n",
       "      <th>gender</th>\n",
       "      <th>city</th>\n",
       "      <th>state</th>\n",
       "      <th>lat</th>\n",
       "      <th>long</th>\n",
       "      <th>city_pop</th>\n",
       "      <th>job</th>\n",
       "      <th>dob</th>\n",
       "      <th>merch_lat</th>\n",
       "      <th>merch_long</th>\n",
       "      <th>is_fraud</th>\n",
       "      <th>hour</th>\n",
       "      <th>year</th>\n",
       "      <th>dob year</th>\n",
       "    </tr>\n",
       "  </thead>\n",
       "  <tbody>\n",
       "    <tr>\n",
       "      <th>0</th>\n",
       "      <td>2019-01-01 00:00:18</td>\n",
       "      <td>misc_net</td>\n",
       "      <td>4.97</td>\n",
       "      <td>F</td>\n",
       "      <td>Moravian Falls</td>\n",
       "      <td>NC</td>\n",
       "      <td>36.0788</td>\n",
       "      <td>-81.1781</td>\n",
       "      <td>3495</td>\n",
       "      <td>Psychologist, counselling</td>\n",
       "      <td>1988-03-09</td>\n",
       "      <td>36.011293</td>\n",
       "      <td>-82.048315</td>\n",
       "      <td>0</td>\n",
       "      <td>0</td>\n",
       "      <td>2019</td>\n",
       "      <td>1988</td>\n",
       "    </tr>\n",
       "    <tr>\n",
       "      <th>1</th>\n",
       "      <td>2019-01-01 00:00:44</td>\n",
       "      <td>grocery_pos</td>\n",
       "      <td>107.23</td>\n",
       "      <td>F</td>\n",
       "      <td>Orient</td>\n",
       "      <td>WA</td>\n",
       "      <td>48.8878</td>\n",
       "      <td>-118.2105</td>\n",
       "      <td>149</td>\n",
       "      <td>Special educational needs teacher</td>\n",
       "      <td>1978-06-21</td>\n",
       "      <td>49.159047</td>\n",
       "      <td>-118.186462</td>\n",
       "      <td>0</td>\n",
       "      <td>0</td>\n",
       "      <td>2019</td>\n",
       "      <td>1978</td>\n",
       "    </tr>\n",
       "  </tbody>\n",
       "</table>\n",
       "</div>"
      ],
      "text/plain": [
       "  trans_date_trans_time     category     amt gender            city state  \\\n",
       "0   2019-01-01 00:00:18     misc_net    4.97      F  Moravian Falls    NC   \n",
       "1   2019-01-01 00:00:44  grocery_pos  107.23      F          Orient    WA   \n",
       "\n",
       "       lat      long  city_pop                                job        dob  \\\n",
       "0  36.0788  -81.1781      3495          Psychologist, counselling 1988-03-09   \n",
       "1  48.8878 -118.2105       149  Special educational needs teacher 1978-06-21   \n",
       "\n",
       "   merch_lat  merch_long  is_fraud  hour  year  dob year  \n",
       "0  36.011293  -82.048315         0     0  2019      1988  \n",
       "1  49.159047 -118.186462         0     0  2019      1978  "
      ]
     },
     "execution_count": 32,
     "metadata": {},
     "output_type": "execute_result"
    }
   ],
   "source": [
    "# Finding date of birth year and the year in which transaction was done\n",
    "data_frame_combined['year']=data_frame_combined['trans_date_trans_time'].dt.year\n",
    "data_frame_combined['dob year']=data_frame_combined['dob'].dt.year\n",
    "data_frame_combined.head(2)"
   ]
  },
  {
   "cell_type": "code",
   "execution_count": 33,
   "id": "fd5d1c81-19c2-42fc-b2ca-97b922b0c11a",
   "metadata": {},
   "outputs": [
    {
     "name": "stdout",
     "output_type": "stream",
     "text": [
      "<class 'pandas.core.frame.DataFrame'>\n",
      "Int64Index: 1852394 entries, 0 to 555718\n",
      "Data columns (total 17 columns):\n",
      " #   Column                 Dtype         \n",
      "---  ------                 -----         \n",
      " 0   trans_date_trans_time  datetime64[ns]\n",
      " 1   category               object        \n",
      " 2   amt                    float64       \n",
      " 3   gender                 object        \n",
      " 4   city                   object        \n",
      " 5   state                  object        \n",
      " 6   lat                    float64       \n",
      " 7   long                   float64       \n",
      " 8   city_pop               int64         \n",
      " 9   job                    object        \n",
      " 10  dob                    datetime64[ns]\n",
      " 11  merch_lat              float64       \n",
      " 12  merch_long             float64       \n",
      " 13  is_fraud               int64         \n",
      " 14  hour                   int64         \n",
      " 15  year                   int64         \n",
      " 16  dob year               int64         \n",
      "dtypes: datetime64[ns](2), float64(5), int64(5), object(5)\n",
      "memory usage: 254.4+ MB\n"
     ]
    }
   ],
   "source": [
    "data_frame_combined.info()"
   ]
  },
  {
   "cell_type": "code",
   "execution_count": 34,
   "id": "3ba1c9e2-1c37-4bff-85ef-f06e54147905",
   "metadata": {
    "tags": []
   },
   "outputs": [
    {
     "data": {
      "text/html": [
       "<div>\n",
       "<style scoped>\n",
       "    .dataframe tbody tr th:only-of-type {\n",
       "        vertical-align: middle;\n",
       "    }\n",
       "\n",
       "    .dataframe tbody tr th {\n",
       "        vertical-align: top;\n",
       "    }\n",
       "\n",
       "    .dataframe thead th {\n",
       "        text-align: right;\n",
       "    }\n",
       "</style>\n",
       "<table border=\"1\" class=\"dataframe\">\n",
       "  <thead>\n",
       "    <tr style=\"text-align: right;\">\n",
       "      <th></th>\n",
       "      <th>trans_date_trans_time</th>\n",
       "      <th>category</th>\n",
       "      <th>amt</th>\n",
       "      <th>gender</th>\n",
       "      <th>city</th>\n",
       "      <th>state</th>\n",
       "      <th>lat</th>\n",
       "      <th>long</th>\n",
       "      <th>city_pop</th>\n",
       "      <th>job</th>\n",
       "      <th>dob</th>\n",
       "      <th>merch_lat</th>\n",
       "      <th>merch_long</th>\n",
       "      <th>is_fraud</th>\n",
       "      <th>hour</th>\n",
       "      <th>age</th>\n",
       "    </tr>\n",
       "  </thead>\n",
       "  <tbody>\n",
       "    <tr>\n",
       "      <th>0</th>\n",
       "      <td>2019-01-01 00:00:18</td>\n",
       "      <td>misc_net</td>\n",
       "      <td>4.97</td>\n",
       "      <td>F</td>\n",
       "      <td>Moravian Falls</td>\n",
       "      <td>NC</td>\n",
       "      <td>36.0788</td>\n",
       "      <td>-81.1781</td>\n",
       "      <td>3495</td>\n",
       "      <td>Psychologist, counselling</td>\n",
       "      <td>1988-03-09</td>\n",
       "      <td>36.011293</td>\n",
       "      <td>-82.048315</td>\n",
       "      <td>0</td>\n",
       "      <td>0</td>\n",
       "      <td>31</td>\n",
       "    </tr>\n",
       "    <tr>\n",
       "      <th>1</th>\n",
       "      <td>2019-01-01 00:00:44</td>\n",
       "      <td>grocery_pos</td>\n",
       "      <td>107.23</td>\n",
       "      <td>F</td>\n",
       "      <td>Orient</td>\n",
       "      <td>WA</td>\n",
       "      <td>48.8878</td>\n",
       "      <td>-118.2105</td>\n",
       "      <td>149</td>\n",
       "      <td>Special educational needs teacher</td>\n",
       "      <td>1978-06-21</td>\n",
       "      <td>49.159047</td>\n",
       "      <td>-118.186462</td>\n",
       "      <td>0</td>\n",
       "      <td>0</td>\n",
       "      <td>41</td>\n",
       "    </tr>\n",
       "  </tbody>\n",
       "</table>\n",
       "</div>"
      ],
      "text/plain": [
       "  trans_date_trans_time     category     amt gender            city state  \\\n",
       "0   2019-01-01 00:00:18     misc_net    4.97      F  Moravian Falls    NC   \n",
       "1   2019-01-01 00:00:44  grocery_pos  107.23      F          Orient    WA   \n",
       "\n",
       "       lat      long  city_pop                                job        dob  \\\n",
       "0  36.0788  -81.1781      3495          Psychologist, counselling 1988-03-09   \n",
       "1  48.8878 -118.2105       149  Special educational needs teacher 1978-06-21   \n",
       "\n",
       "   merch_lat  merch_long  is_fraud  hour  age  \n",
       "0  36.011293  -82.048315         0     0   31  \n",
       "1  49.159047 -118.186462         0     0   41  "
      ]
     },
     "execution_count": 34,
     "metadata": {},
     "output_type": "execute_result"
    }
   ],
   "source": [
    "# Find the approximate age of persons included in dataset\n",
    "data_frame_combined['age']=data_frame_combined['year']-data_frame_combined['dob year']\n",
    "data_frame_combined.drop(columns=['year','dob year'],axis=1,inplace=True)\n",
    "data_frame_combined.head(2)"
   ]
  },
  {
   "cell_type": "code",
   "execution_count": 35,
   "id": "67fd55ae-a187-446c-8372-77f0621772fa",
   "metadata": {},
   "outputs": [],
   "source": [
    "# Drop columns 'trans_date_trans_time' and 'dob' as we have derived enough data from them\n",
    "data_frame_combined.drop(columns=['trans_date_trans_time','dob'],axis=1,inplace=True)"
   ]
  },
  {
   "cell_type": "code",
   "execution_count": 36,
   "id": "ffc60d59-aaa8-4cf7-ae79-f8de78e2a46d",
   "metadata": {},
   "outputs": [
    {
     "name": "stdout",
     "output_type": "stream",
     "text": [
      "<class 'pandas.core.frame.DataFrame'>\n",
      "Int64Index: 1852394 entries, 0 to 555718\n",
      "Data columns (total 28 columns):\n",
      " #   Column                   Dtype  \n",
      "---  ------                   -----  \n",
      " 0   amt                      float64\n",
      " 1   city                     object \n",
      " 2   state                    object \n",
      " 3   lat                      float64\n",
      " 4   long                     float64\n",
      " 5   city_pop                 int64  \n",
      " 6   job                      object \n",
      " 7   merch_lat                float64\n",
      " 8   merch_long               float64\n",
      " 9   is_fraud                 int64  \n",
      " 10  hour                     int64  \n",
      " 11  age                      int64  \n",
      " 12  gender_F                 uint8  \n",
      " 13  gender_M                 uint8  \n",
      " 14  category_entertainment   uint8  \n",
      " 15  category_food_dining     uint8  \n",
      " 16  category_gas_transport   uint8  \n",
      " 17  category_grocery_net     uint8  \n",
      " 18  category_grocery_pos     uint8  \n",
      " 19  category_health_fitness  uint8  \n",
      " 20  category_home            uint8  \n",
      " 21  category_kids_pets       uint8  \n",
      " 22  category_misc_net        uint8  \n",
      " 23  category_misc_pos        uint8  \n",
      " 24  category_personal_care   uint8  \n",
      " 25  category_shopping_net    uint8  \n",
      " 26  category_shopping_pos    uint8  \n",
      " 27  category_travel          uint8  \n",
      "dtypes: float64(5), int64(4), object(3), uint8(16)\n",
      "memory usage: 212.0+ MB\n"
     ]
    }
   ],
   "source": [
    "# One hot encoding variables\n",
    "data_frame_combined= pd.get_dummies(data_frame_combined,columns=['gender'])\n",
    "data_frame_combined= pd.get_dummies(data_frame_combined,columns=['category'])\n",
    "data_frame_combined.info()"
   ]
  },
  {
   "cell_type": "code",
   "execution_count": 37,
   "id": "366c9edf-e26a-42b3-b8e7-8e16ac9ff39d",
   "metadata": {},
   "outputs": [
    {
     "data": {
      "text/html": [
       "<div>\n",
       "<style scoped>\n",
       "    .dataframe tbody tr th:only-of-type {\n",
       "        vertical-align: middle;\n",
       "    }\n",
       "\n",
       "    .dataframe tbody tr th {\n",
       "        vertical-align: top;\n",
       "    }\n",
       "\n",
       "    .dataframe thead th {\n",
       "        text-align: right;\n",
       "    }\n",
       "</style>\n",
       "<table border=\"1\" class=\"dataframe\">\n",
       "  <thead>\n",
       "    <tr style=\"text-align: right;\">\n",
       "      <th></th>\n",
       "      <th>amt</th>\n",
       "      <th>city</th>\n",
       "      <th>state</th>\n",
       "      <th>lat</th>\n",
       "      <th>long</th>\n",
       "      <th>city_pop</th>\n",
       "      <th>job</th>\n",
       "      <th>merch_lat</th>\n",
       "      <th>merch_long</th>\n",
       "      <th>is_fraud</th>\n",
       "      <th>...</th>\n",
       "      <th>category_grocery_pos</th>\n",
       "      <th>category_health_fitness</th>\n",
       "      <th>category_home</th>\n",
       "      <th>category_kids_pets</th>\n",
       "      <th>category_misc_net</th>\n",
       "      <th>category_misc_pos</th>\n",
       "      <th>category_personal_care</th>\n",
       "      <th>category_shopping_net</th>\n",
       "      <th>category_shopping_pos</th>\n",
       "      <th>category_travel</th>\n",
       "    </tr>\n",
       "  </thead>\n",
       "  <tbody>\n",
       "    <tr>\n",
       "      <th>0</th>\n",
       "      <td>4.97</td>\n",
       "      <td>Moravian Falls</td>\n",
       "      <td>NC</td>\n",
       "      <td>36.0788</td>\n",
       "      <td>-81.1781</td>\n",
       "      <td>3495</td>\n",
       "      <td>Psychologist, counselling</td>\n",
       "      <td>36.011293</td>\n",
       "      <td>-82.048315</td>\n",
       "      <td>0</td>\n",
       "      <td>...</td>\n",
       "      <td>0</td>\n",
       "      <td>0</td>\n",
       "      <td>0</td>\n",
       "      <td>0</td>\n",
       "      <td>1</td>\n",
       "      <td>0</td>\n",
       "      <td>0</td>\n",
       "      <td>0</td>\n",
       "      <td>0</td>\n",
       "      <td>0</td>\n",
       "    </tr>\n",
       "    <tr>\n",
       "      <th>1</th>\n",
       "      <td>107.23</td>\n",
       "      <td>Orient</td>\n",
       "      <td>WA</td>\n",
       "      <td>48.8878</td>\n",
       "      <td>-118.2105</td>\n",
       "      <td>149</td>\n",
       "      <td>Special educational needs teacher</td>\n",
       "      <td>49.159047</td>\n",
       "      <td>-118.186462</td>\n",
       "      <td>0</td>\n",
       "      <td>...</td>\n",
       "      <td>1</td>\n",
       "      <td>0</td>\n",
       "      <td>0</td>\n",
       "      <td>0</td>\n",
       "      <td>0</td>\n",
       "      <td>0</td>\n",
       "      <td>0</td>\n",
       "      <td>0</td>\n",
       "      <td>0</td>\n",
       "      <td>0</td>\n",
       "    </tr>\n",
       "    <tr>\n",
       "      <th>2</th>\n",
       "      <td>220.11</td>\n",
       "      <td>Malad City</td>\n",
       "      <td>ID</td>\n",
       "      <td>42.1808</td>\n",
       "      <td>-112.2620</td>\n",
       "      <td>4154</td>\n",
       "      <td>Nature conservation officer</td>\n",
       "      <td>43.150704</td>\n",
       "      <td>-112.154481</td>\n",
       "      <td>0</td>\n",
       "      <td>...</td>\n",
       "      <td>0</td>\n",
       "      <td>0</td>\n",
       "      <td>0</td>\n",
       "      <td>0</td>\n",
       "      <td>0</td>\n",
       "      <td>0</td>\n",
       "      <td>0</td>\n",
       "      <td>0</td>\n",
       "      <td>0</td>\n",
       "      <td>0</td>\n",
       "    </tr>\n",
       "    <tr>\n",
       "      <th>3</th>\n",
       "      <td>45.00</td>\n",
       "      <td>Boulder</td>\n",
       "      <td>MT</td>\n",
       "      <td>46.2306</td>\n",
       "      <td>-112.1138</td>\n",
       "      <td>1939</td>\n",
       "      <td>Patent attorney</td>\n",
       "      <td>47.034331</td>\n",
       "      <td>-112.561071</td>\n",
       "      <td>0</td>\n",
       "      <td>...</td>\n",
       "      <td>0</td>\n",
       "      <td>0</td>\n",
       "      <td>0</td>\n",
       "      <td>0</td>\n",
       "      <td>0</td>\n",
       "      <td>0</td>\n",
       "      <td>0</td>\n",
       "      <td>0</td>\n",
       "      <td>0</td>\n",
       "      <td>0</td>\n",
       "    </tr>\n",
       "    <tr>\n",
       "      <th>4</th>\n",
       "      <td>41.96</td>\n",
       "      <td>Doe Hill</td>\n",
       "      <td>VA</td>\n",
       "      <td>38.4207</td>\n",
       "      <td>-79.4629</td>\n",
       "      <td>99</td>\n",
       "      <td>Dance movement psychotherapist</td>\n",
       "      <td>38.674999</td>\n",
       "      <td>-78.632459</td>\n",
       "      <td>0</td>\n",
       "      <td>...</td>\n",
       "      <td>0</td>\n",
       "      <td>0</td>\n",
       "      <td>0</td>\n",
       "      <td>0</td>\n",
       "      <td>0</td>\n",
       "      <td>1</td>\n",
       "      <td>0</td>\n",
       "      <td>0</td>\n",
       "      <td>0</td>\n",
       "      <td>0</td>\n",
       "    </tr>\n",
       "  </tbody>\n",
       "</table>\n",
       "<p>5 rows × 28 columns</p>\n",
       "</div>"
      ],
      "text/plain": [
       "      amt            city state      lat      long  city_pop  \\\n",
       "0    4.97  Moravian Falls    NC  36.0788  -81.1781      3495   \n",
       "1  107.23          Orient    WA  48.8878 -118.2105       149   \n",
       "2  220.11      Malad City    ID  42.1808 -112.2620      4154   \n",
       "3   45.00         Boulder    MT  46.2306 -112.1138      1939   \n",
       "4   41.96        Doe Hill    VA  38.4207  -79.4629        99   \n",
       "\n",
       "                                 job  merch_lat  merch_long  is_fraud  ...  \\\n",
       "0          Psychologist, counselling  36.011293  -82.048315         0  ...   \n",
       "1  Special educational needs teacher  49.159047 -118.186462         0  ...   \n",
       "2        Nature conservation officer  43.150704 -112.154481         0  ...   \n",
       "3                    Patent attorney  47.034331 -112.561071         0  ...   \n",
       "4     Dance movement psychotherapist  38.674999  -78.632459         0  ...   \n",
       "\n",
       "   category_grocery_pos  category_health_fitness  category_home  \\\n",
       "0                     0                        0              0   \n",
       "1                     1                        0              0   \n",
       "2                     0                        0              0   \n",
       "3                     0                        0              0   \n",
       "4                     0                        0              0   \n",
       "\n",
       "   category_kids_pets  category_misc_net  category_misc_pos  \\\n",
       "0                   0                  1                  0   \n",
       "1                   0                  0                  0   \n",
       "2                   0                  0                  0   \n",
       "3                   0                  0                  0   \n",
       "4                   0                  0                  1   \n",
       "\n",
       "   category_personal_care  category_shopping_net  category_shopping_pos  \\\n",
       "0                       0                      0                      0   \n",
       "1                       0                      0                      0   \n",
       "2                       0                      0                      0   \n",
       "3                       0                      0                      0   \n",
       "4                       0                      0                      0   \n",
       "\n",
       "   category_travel  \n",
       "0                0  \n",
       "1                0  \n",
       "2                0  \n",
       "3                0  \n",
       "4                0  \n",
       "\n",
       "[5 rows x 28 columns]"
      ]
     },
     "execution_count": 37,
     "metadata": {},
     "output_type": "execute_result"
    }
   ],
   "source": [
    "# Show the top 5 rows of new dataset\n",
    "data_frame_combined.head(5)"
   ]
  },
  {
   "cell_type": "code",
   "execution_count": 38,
   "id": "c806c99b-f2bc-4dfc-a04f-ee46233d882b",
   "metadata": {
    "tags": []
   },
   "outputs": [
    {
     "data": {
      "text/plain": [
       "Index(['amt', 'lat', 'long', 'city_pop', 'merch_lat', 'merch_long', 'is_fraud',\n",
       "       'hour', 'age', 'gender_F', 'gender_M', 'category_entertainment',\n",
       "       'category_food_dining', 'category_gas_transport',\n",
       "       'category_grocery_net', 'category_grocery_pos',\n",
       "       'category_health_fitness', 'category_home', 'category_kids_pets',\n",
       "       'category_misc_net', 'category_misc_pos', 'category_personal_care',\n",
       "       'category_shopping_net', 'category_shopping_pos', 'category_travel'],\n",
       "      dtype='object')"
      ]
     },
     "execution_count": 38,
     "metadata": {},
     "output_type": "execute_result"
    }
   ],
   "source": [
    "# Identifing Numerical Columns in Dataset\n",
    "data_frame_combined=data_frame_combined.select_dtypes(include=['float64','int64','uint8'])\n",
    "data_frame_combined.columns"
   ]
  },
  {
   "cell_type": "markdown",
   "id": "903634b8-bd9d-4735-b530-80bce8a8d5f4",
   "metadata": {},
   "source": [
    "#### Splitting the combined dataset for training and testing"
   ]
  },
  {
   "cell_type": "code",
   "execution_count": 40,
   "id": "2ce61b96-b6d7-49b8-856d-322c0852336b",
   "metadata": {
    "tags": []
   },
   "outputs": [],
   "source": [
    "from sklearn.model_selection import train_test_split"
   ]
  },
  {
   "cell_type": "code",
   "execution_count": 41,
   "id": "07affa06-851b-44a4-950a-e5c27b1de9a5",
   "metadata": {
    "tags": []
   },
   "outputs": [],
   "source": [
    "#First step in building the model is to identify the Feature(Input) variables and Target (Output) variable\n",
    "features_combined=data_frame_combined.drop([\"is_fraud\"],axis=1)\n",
    "target_combined=data_frame_combined[\"is_fraud\"]"
   ]
  },
  {
   "cell_type": "code",
   "execution_count": 42,
   "id": "91cc4c71-bc13-4518-9ef9-c5abbf381149",
   "metadata": {
    "tags": []
   },
   "outputs": [
    {
     "name": "stdout",
     "output_type": "stream",
     "text": [
      "Dimensions of Newly formed Train Dataset features : (1296675, 24)\n",
      "Dimensions of Newly formed Test Dataset Features :  (555719, 24)\n",
      "Dimensions of Target for Newly formed Train dataset:  (1296675,)\n",
      "Dimensions of Target for Newly formed Test dataset:  (555719,)\n"
     ]
    }
   ],
   "source": [
    "# Splitting data for training the model and testing the model\n",
    "# train size taken as 0.8\n",
    "X_train,X_test,y_train,y_test=train_test_split(features_combined,target_combined,train_size=0.7)\n",
    "# Dimensions of 'New' Train and Test Data sets\n",
    "print('Dimensions of Newly formed Train Dataset features :',X_train.shape)\n",
    "print('Dimensions of Newly formed Test Dataset Features : ',X_test.shape)\n",
    "print('Dimensions of Target for Newly formed Train dataset: ',y_train.shape)\n",
    "print('Dimensions of Target for Newly formed Test dataset: ' ,y_test.shape)"
   ]
  },
  {
   "cell_type": "markdown",
   "id": "3cf752cf-8fc5-4ea8-bb72-c541504b13d5",
   "metadata": {},
   "source": [
    "#### SMOTE (Synthetic Minority Oversampling Technique)\n",
    "* To perform oversampling inorder to resolve the issue of DATA IMBALANCE"
   ]
  },
  {
   "cell_type": "code",
   "execution_count": 43,
   "id": "c8011232-25b0-48f3-a38b-e81652b9b652",
   "metadata": {},
   "outputs": [],
   "source": [
    "from imblearn.over_sampling import SMOTE\n",
    "smote=SMOTE()\n",
    "x_sm,y_sm = smote.fit_resample(X_train.astype('float'), y_train)"
   ]
  },
  {
   "cell_type": "code",
   "execution_count": 44,
   "id": "84163a12-eb2b-4103-a63b-f15437b74751",
   "metadata": {},
   "outputs": [
    {
     "data": {
      "text/plain": [
       "(2579864,)"
      ]
     },
     "execution_count": 44,
     "metadata": {},
     "output_type": "execute_result"
    }
   ],
   "source": [
    "# Dimensions after application of SMOTE\n",
    "x_sm.shape\n",
    "y_sm.shape"
   ]
  },
  {
   "cell_type": "markdown",
   "id": "e249c06d-399a-42c1-b464-ac0e32a71afc",
   "metadata": {},
   "source": [
    "### Building the Models"
   ]
  },
  {
   "cell_type": "markdown",
   "id": "a49bf308-02c4-4cdc-a10e-7f00dbaab377",
   "metadata": {},
   "source": [
    "###  Logistic Regression Model"
   ]
  },
  {
   "cell_type": "code",
   "execution_count": 45,
   "id": "73af6e9f-e54d-4288-a51c-69883b9a972b",
   "metadata": {
    "tags": []
   },
   "outputs": [],
   "source": [
    "# Learn the Logistic Regression Model on train data\n",
    "from sklearn.linear_model import LogisticRegression\n",
    "my_model_LR=LogisticRegression()"
   ]
  },
  {
   "cell_type": "code",
   "execution_count": 46,
   "id": "3bf25ef3-7699-4a9f-adac-25839343a399",
   "metadata": {
    "tags": []
   },
   "outputs": [],
   "source": [
    "# Fitting the model in train data set ie the  Logistic Regression Model should learn from the Train Data\n",
    "my_model_LR=my_model_LR.fit(x_sm,y_sm)"
   ]
  },
  {
   "cell_type": "code",
   "execution_count": 47,
   "id": "b8cc1544-5d80-47ef-8441-cb5a43f0c8fa",
   "metadata": {},
   "outputs": [
    {
     "data": {
      "text/plain": [
       "array([1, 1, 0, ..., 0, 0, 0], dtype=int64)"
      ]
     },
     "execution_count": 47,
     "metadata": {},
     "output_type": "execute_result"
    }
   ],
   "source": [
    "# Predicting fraud/Non-fraud transactions from Feature Test values\n",
    "y_pred_LR = my_model_LR.predict(X_test)\n",
    "y_pred_LR "
   ]
  },
  {
   "cell_type": "markdown",
   "id": "e61fa615-2407-4636-bc7c-739a4fc2d105",
   "metadata": {},
   "source": [
    "#### Testing the Logistic Regression Model"
   ]
  },
  {
   "cell_type": "code",
   "execution_count": 48,
   "id": "4d77389c-dbb2-4a5e-85ed-e7f64f2d5648",
   "metadata": {
    "tags": []
   },
   "outputs": [],
   "source": [
    "from sklearn.metrics import accuracy_score,precision_score,recall_score,f1_score"
   ]
  },
  {
   "cell_type": "code",
   "execution_count": 49,
   "id": "410079a0-6670-4912-ab32-33caade7f1c6",
   "metadata": {
    "tags": []
   },
   "outputs": [
    {
     "data": {
      "text/plain": [
       "0.9498901423201295"
      ]
     },
     "execution_count": 49,
     "metadata": {},
     "output_type": "execute_result"
    }
   ],
   "source": [
    "# find Accurancy Score = (TP+TN)/(TP+TN+FP+FN)\n",
    "accuracy_score(y_test, y_pred_LR)"
   ]
  },
  {
   "cell_type": "code",
   "execution_count": 50,
   "id": "868d76cd-cde7-4203-8300-7e04305175f4",
   "metadata": {
    "tags": []
   },
   "outputs": [
    {
     "data": {
      "text/plain": [
       "0.07434715821812596"
      ]
     },
     "execution_count": 50,
     "metadata": {},
     "output_type": "execute_result"
    }
   ],
   "source": [
    "# find Precision Score= TP/(TP+FP)\n",
    "precision_score(y_test, y_pred_LR)"
   ]
  },
  {
   "cell_type": "code",
   "execution_count": 51,
   "id": "8faf1b24-fc62-4032-b7a6-59e6d5c929e0",
   "metadata": {
    "tags": []
   },
   "outputs": [
    {
     "data": {
      "text/plain": [
       "0.7489683631361761"
      ]
     },
     "execution_count": 51,
     "metadata": {},
     "output_type": "execute_result"
    }
   ],
   "source": [
    "# Recall = TP/(TP+FN)\n",
    "# Recall gives the percentage of positives well predicted by our model.\n",
    "recall_score(y_test, y_pred_LR)"
   ]
  },
  {
   "cell_type": "code",
   "execution_count": 52,
   "id": "0611c1b4-2462-4710-a517-d32d6e605679",
   "metadata": {
    "tags": []
   },
   "outputs": [
    {
     "data": {
      "text/plain": [
       "0.13526690059932306"
      ]
     },
     "execution_count": 52,
     "metadata": {},
     "output_type": "execute_result"
    }
   ],
   "source": [
    "# f1_score= (Precition * Recall )/ (Precition + Recall)\n",
    "f1_score(y_test, y_pred_LR)"
   ]
  },
  {
   "cell_type": "markdown",
   "id": "acd60b80-e962-4664-a4d3-76de1c259fa3",
   "metadata": {},
   "source": [
    "* Logistic Regression Model has good Accuracy Score, but Precision score and f1 scores are not good"
   ]
  },
  {
   "cell_type": "markdown",
   "id": "33dfa900-64a5-47aa-ba89-8bef3509efbd",
   "metadata": {},
   "source": [
    "### 2. Decision Tree model"
   ]
  },
  {
   "cell_type": "code",
   "execution_count": 53,
   "id": "1804c6b6-2514-4135-8b66-5cc159a72f11",
   "metadata": {
    "tags": []
   },
   "outputs": [],
   "source": [
    "from sklearn.tree import DecisionTreeClassifier\n",
    "my_model_DT=DecisionTreeClassifier(max_depth=10,random_state = 0)"
   ]
  },
  {
   "cell_type": "code",
   "execution_count": 54,
   "id": "041b06e2-5cc8-4bdb-aa1f-6a0b3bfdfb71",
   "metadata": {
    "tags": []
   },
   "outputs": [],
   "source": [
    "# Fitting the DT model in train data set \n",
    "my_model_DT=my_model_DT.fit(x_sm,y_sm)"
   ]
  },
  {
   "cell_type": "code",
   "execution_count": 55,
   "id": "7d896030-6b6b-4c68-986f-ae2c93baf715",
   "metadata": {
    "tags": []
   },
   "outputs": [
    {
     "data": {
      "text/plain": [
       "array([0, 1, 0, ..., 0, 0, 0], dtype=int64)"
      ]
     },
     "execution_count": 55,
     "metadata": {},
     "output_type": "execute_result"
    }
   ],
   "source": [
    "# Predicting fraud/Non-fraud transactions from Feature Test values\n",
    "y_pred_DT=my_model_DT.predict(X_test)\n",
    "y_pred_DT"
   ]
  },
  {
   "cell_type": "markdown",
   "id": "93a8bea4-23dd-4c54-b286-f094ce094555",
   "metadata": {},
   "source": [
    "#### Testing the Decision Tree Classifier Model"
   ]
  },
  {
   "cell_type": "code",
   "execution_count": 56,
   "id": "9b229052-3d7d-49c3-a989-6e3608582e24",
   "metadata": {
    "tags": []
   },
   "outputs": [
    {
     "data": {
      "text/plain": [
       "0.9823777844558131"
      ]
     },
     "execution_count": 56,
     "metadata": {},
     "output_type": "execute_result"
    }
   ],
   "source": [
    "accuracy_score(y_test,y_pred_DT)"
   ]
  },
  {
   "cell_type": "code",
   "execution_count": 57,
   "id": "94ffefa5-f74e-4a30-93c2-91578ba6d163",
   "metadata": {
    "tags": []
   },
   "outputs": [
    {
     "data": {
      "text/plain": [
       "0.2175732217573222"
      ]
     },
     "execution_count": 57,
     "metadata": {},
     "output_type": "execute_result"
    }
   ],
   "source": [
    "precision_score(y_test,y_pred_DT)"
   ]
  },
  {
   "cell_type": "code",
   "execution_count": 58,
   "id": "dd109d81-72bb-4cfd-926a-d01c00f96f25",
   "metadata": {
    "tags": []
   },
   "outputs": [
    {
     "data": {
      "text/plain": [
       "0.9119669876203577"
      ]
     },
     "execution_count": 58,
     "metadata": {},
     "output_type": "execute_result"
    }
   ],
   "source": [
    "recall_score(y_test,y_pred_DT)"
   ]
  },
  {
   "cell_type": "code",
   "execution_count": 59,
   "id": "3f52ae39-ac08-4c2e-99d6-8ec16d6da4a9",
   "metadata": {
    "tags": []
   },
   "outputs": [
    {
     "data": {
      "text/plain": [
       "0.3513280784261774"
      ]
     },
     "execution_count": 59,
     "metadata": {},
     "output_type": "execute_result"
    }
   ],
   "source": [
    "f1_score(y_test,y_pred_DT)"
   ]
  },
  {
   "cell_type": "markdown",
   "id": "ff7e5cbf-833a-42c7-9ef3-78cc7f573405",
   "metadata": {},
   "source": [
    "* Decision Tree Classifier Model has good Accuracy score and Recall score , but precision score and f1 scores are not good"
   ]
  },
  {
   "cell_type": "markdown",
   "id": "52e48a8d-e584-4b10-b43f-0b4960534231",
   "metadata": {},
   "source": [
    "### 3. Random Forest Classifier Model"
   ]
  },
  {
   "cell_type": "code",
   "execution_count": 62,
   "id": "1cc80540-47d3-4bcd-b145-9de3c9a6897d",
   "metadata": {
    "tags": []
   },
   "outputs": [],
   "source": [
    "from sklearn.ensemble import RandomForestClassifier\n",
    "my_model_RF=RandomForestClassifier(random_state=10)"
   ]
  },
  {
   "cell_type": "code",
   "execution_count": 63,
   "id": "dc65e997-800d-484d-b719-598ab6d2005c",
   "metadata": {
    "tags": []
   },
   "outputs": [],
   "source": [
    "# Fitting the Random Forest Classifier model in train data set\n",
    "my_model_RF=my_model_RF.fit(x_sm,y_sm)"
   ]
  },
  {
   "cell_type": "code",
   "execution_count": 64,
   "id": "29a84483-e9de-4749-9292-45b51a9130fb",
   "metadata": {},
   "outputs": [
    {
     "data": {
      "text/plain": [
       "array([0, 1, 0, ..., 0, 0, 0], dtype=int64)"
      ]
     },
     "execution_count": 64,
     "metadata": {},
     "output_type": "execute_result"
    }
   ],
   "source": [
    "# Predicting fraud/Non-fraud transactions from Feature Test values\n",
    "y_pred_RF=my_model_RF.predict(X_test)\n",
    "y_pred_RF"
   ]
  },
  {
   "cell_type": "markdown",
   "id": "bef4bad7-7e94-46a8-9b2a-992307febb3d",
   "metadata": {},
   "source": [
    "#### Testing the Random Forest Classifier Model"
   ]
  },
  {
   "cell_type": "code",
   "execution_count": 65,
   "id": "83d313b9-9ddc-4125-9acb-f46b9eab9c55",
   "metadata": {},
   "outputs": [
    {
     "data": {
      "text/plain": [
       "0.9984722494642077"
      ]
     },
     "execution_count": 65,
     "metadata": {},
     "output_type": "execute_result"
    }
   ],
   "source": [
    "accuracy_score(y_test, y_pred_RF)"
   ]
  },
  {
   "cell_type": "code",
   "execution_count": 66,
   "id": "6b4e1ac3-e60f-441d-ad38-3f23cd364832",
   "metadata": {},
   "outputs": [
    {
     "data": {
      "text/plain": [
       "0.8945956305097739"
      ]
     },
     "execution_count": 66,
     "metadata": {},
     "output_type": "execute_result"
    }
   ],
   "source": [
    "precision_score(y_test, y_pred_RF)"
   ]
  },
  {
   "cell_type": "code",
   "execution_count": 67,
   "id": "3d39b406-603c-4541-901a-40d7f1536894",
   "metadata": {},
   "outputs": [
    {
     "data": {
      "text/plain": [
       "0.8026134800550206"
      ]
     },
     "execution_count": 67,
     "metadata": {},
     "output_type": "execute_result"
    }
   ],
   "source": [
    "recall_score(y_test, y_pred_RF)"
   ]
  },
  {
   "cell_type": "code",
   "execution_count": 68,
   "id": "cf1d6788-49f1-441d-92c2-318680bbaf49",
   "metadata": {},
   "outputs": [
    {
     "data": {
      "text/plain": [
       "0.8461120174007613"
      ]
     },
     "execution_count": 68,
     "metadata": {},
     "output_type": "execute_result"
    }
   ],
   "source": [
    "f1_score(y_test, y_pred_RF)"
   ]
  },
  {
   "cell_type": "markdown",
   "id": "3f14fe7d-f328-4003-856a-3722c84bc12f",
   "metadata": {},
   "source": [
    " * Random Forest has good Accuracy , Precision, Recall and f1 score "
   ]
  },
  {
   "cell_type": "markdown",
   "id": "50818268-c1af-4fa4-a1c2-33fe602c723a",
   "metadata": {
    "tags": []
   },
   "source": [
    "--------------------THE END----------------------"
   ]
  }
 ],
 "metadata": {
  "kernelspec": {
   "display_name": "Python 3 (ipykernel)",
   "language": "python",
   "name": "python3"
  },
  "language_info": {
   "codemirror_mode": {
    "name": "ipython",
    "version": 3
   },
   "file_extension": ".py",
   "mimetype": "text/x-python",
   "name": "python",
   "nbconvert_exporter": "python",
   "pygments_lexer": "ipython3",
   "version": "3.11.4"
  }
 },
 "nbformat": 4,
 "nbformat_minor": 5
}
